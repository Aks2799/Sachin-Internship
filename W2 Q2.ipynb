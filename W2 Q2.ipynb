{
 "cells": [
  {
   "cell_type": "markdown",
   "id": "ed747569",
   "metadata": {},
   "source": [
    "Q1: Write a python program to scrape data for “Data Analyst” Job position in “Bangalore” location. You\n",
    "have to scrape the job-title, job-location, company_name, experience_required. You have to scrape first 10\n",
    "jobs data.\n",
    "This task will be done in following steps:\n",
    "1. First get the webpage https://www.naukri.com/\n",
    "2. Enter “Data Scientist” in “Skill, Designations, Companies” field and enter “Bangalore” in “enter the\n",
    "location” field.\n",
    "3. Then click the search button.\n",
    "4. Then scrape the data for the first 10 jobs results you get.\n",
    "5. Finally create a dataframe of the scraped data"
   ]
  },
  {
   "cell_type": "code",
   "execution_count": 1,
   "id": "941cdec3",
   "metadata": {},
   "outputs": [],
   "source": [
    "import selenium\n",
    "from selenium import webdriver\n",
    "import pandas as dd\n",
    "import warnings\n",
    "warnings.filterwarnings(\"ignore\")"
   ]
  },
  {
   "cell_type": "code",
   "execution_count": 2,
   "id": "642ddb91",
   "metadata": {},
   "outputs": [],
   "source": [
    "driver = webdriver.Chrome(r'C:/Users/SACHIN/Downloads/chromedriver_win32/chromedriver.exe')"
   ]
  },
  {
   "cell_type": "code",
   "execution_count": 3,
   "id": "54b74b86",
   "metadata": {},
   "outputs": [],
   "source": [
    "driver = webdriver.Chrome('chromedriver.exe')"
   ]
  },
  {
   "cell_type": "code",
   "execution_count": 4,
   "id": "8550d937",
   "metadata": {},
   "outputs": [],
   "source": [
    "url = 'https://www.naukri.com/'\n",
    "driver.get(url)"
   ]
  },
  {
   "cell_type": "code",
   "execution_count": 5,
   "id": "4f32e255",
   "metadata": {},
   "outputs": [],
   "source": [
    "search_job = driver.find_element_by_class_name(\"suggestor-input\")"
   ]
  },
  {
   "cell_type": "code",
   "execution_count": 7,
   "id": "eb6e6e15",
   "metadata": {},
   "outputs": [],
   "source": [
    "search_job\n",
    "search_job.send_keys(\"Data Scientist\")"
   ]
  },
  {
   "cell_type": "code",
   "execution_count": 8,
   "id": "77fd9053",
   "metadata": {},
   "outputs": [],
   "source": [
    "search_locn = driver.find_element_by_xpath(\"/html/body/div/div[2]/div[3]/div/div/div[3]/div/div/div/input\")\n",
    "search_locn\n",
    "search_locn.send_keys(\"Bangalore\")"
   ]
  },
  {
   "cell_type": "code",
   "execution_count": 9,
   "id": "240531ad",
   "metadata": {},
   "outputs": [],
   "source": [
    "search_btn = driver.find_element_by_xpath(\"/html/body/div/div[2]/div[3]/div/div/div[6]\")\n",
    "search_btn\n",
    "search_btn.click()"
   ]
  },
  {
   "cell_type": "code",
   "execution_count": 10,
   "id": "475c0289",
   "metadata": {},
   "outputs": [
    {
     "data": {
      "text/plain": [
       "['Data Scientist/ Data Analyst',\n",
       " 'Data Scientist / Sr. Data Engineer',\n",
       " 'Lead Data Scientist',\n",
       " 'Lead Data Scientist - Prescriptive Analytics/Predictive Modeling',\n",
       " 'Lead Data Scientist - NLP/OpenCV',\n",
       " 'Senior Data Scientist reqd For a top notch AI Product Co!(Perm Remote)',\n",
       " 'Assistant Manager/Manager- Data Scientist',\n",
       " 'Data Scientist- Stats/Math PhDs',\n",
       " 'Data Scientist',\n",
       " 'Senior Staff Data Scientist-Computer Vision']"
      ]
     },
     "execution_count": 10,
     "metadata": {},
     "output_type": "execute_result"
    }
   ],
   "source": [
    "job_title = driver.find_elements_by_xpath('//a[@class=\"title fw500 ellipsis\"]')\n",
    "len(job_title)\n",
    "job_title[0:10]\n",
    "title = []\n",
    "for i in range(len(job_title)):\n",
    "    title.append(job_title[i].text)\n",
    "title[0:10]"
   ]
  },
  {
   "cell_type": "code",
   "execution_count": 11,
   "id": "74f02aba",
   "metadata": {},
   "outputs": [
    {
     "data": {
      "text/plain": [
       "['JK Technosoft',\n",
       " 'Convergence Infotech Ltd',\n",
       " 'Freshdesk',\n",
       " 'Codersbrain',\n",
       " 'Codersbrain',\n",
       " 'Infrrd Private Limited',\n",
       " 'Genpact',\n",
       " 'Genpact',\n",
       " 'Optum',\n",
       " 'FabHotel Aay Kay Model Town']"
      ]
     },
     "execution_count": 11,
     "metadata": {},
     "output_type": "execute_result"
    }
   ],
   "source": [
    "company = driver.find_elements_by_xpath('//a[@class=\"subTitle ellipsis fleft\"]')\n",
    "company[0:10]\n",
    "company_name = []\n",
    "for i in range(len(company)):\n",
    "    company_name.append(company[i].text)\n",
    "company_name[0:10]"
   ]
  },
  {
   "cell_type": "code",
   "execution_count": 12,
   "id": "6dd37785",
   "metadata": {},
   "outputs": [
    {
     "data": {
      "text/plain": [
       "['Noida, Hyderabad/Secunderabad, Bangalore/Bengaluru',\n",
       " 'Bangalore/Bengaluru(Sadashiva Nagar)\\n(WFH during Covid)',\n",
       " 'Bangalore/Bengaluru',\n",
       " 'Hyderabad/Secunderabad, Bangalore/Bengaluru',\n",
       " 'Hyderabad/Secunderabad, Bangalore/Bengaluru',\n",
       " 'Remote',\n",
       " 'Gurgaon/Gurugram, Bangalore/Bengaluru',\n",
       " 'Bangalore/Bengaluru',\n",
       " 'Bangalore/Bengaluru',\n",
       " 'Bangalore/Bengaluru']"
      ]
     },
     "execution_count": 12,
     "metadata": {},
     "output_type": "execute_result"
    }
   ],
   "source": [
    "job_locn = driver.find_elements_by_xpath('//li[@class=\"fleft grey-text br2 placeHolderLi location\"]')\n",
    "job_locn[0:10]\n",
    "location = []\n",
    "for i in range(len(job_locn)):\n",
    "    location.append(job_locn[i].text)\n",
    "location[0:10]"
   ]
  },
  {
   "cell_type": "code",
   "execution_count": 13,
   "id": "e1328e64",
   "metadata": {},
   "outputs": [
    {
     "data": {
      "text/plain": [
       "['5-6 Yrs',\n",
       " '4-9 Yrs',\n",
       " '5-8 Yrs',\n",
       " '6-11 Yrs',\n",
       " '6-11 Yrs',\n",
       " '7-12 Yrs',\n",
       " '4-9 Yrs',\n",
       " '5-10 Yrs',\n",
       " '5-10 Yrs',\n",
       " '2-5 Yrs']"
      ]
     },
     "execution_count": 13,
     "metadata": {},
     "output_type": "execute_result"
    }
   ],
   "source": [
    "exp_req = driver.find_elements_by_xpath('//li[@class=\"fleft grey-text br2 placeHolderLi experience\"]')\n",
    "exp_req[0:10]\n",
    "experience = []\n",
    "for i in range(len(exp_req)):\n",
    "    experience.append(exp_req[i].text)\n",
    "experience[0:10]"
   ]
  },
  {
   "cell_type": "code",
   "execution_count": 15,
   "id": "115e6a17",
   "metadata": {},
   "outputs": [
    {
     "data": {
      "text/html": [
       "<div>\n",
       "<style scoped>\n",
       "    .dataframe tbody tr th:only-of-type {\n",
       "        vertical-align: middle;\n",
       "    }\n",
       "\n",
       "    .dataframe tbody tr th {\n",
       "        vertical-align: top;\n",
       "    }\n",
       "\n",
       "    .dataframe thead th {\n",
       "        text-align: right;\n",
       "    }\n",
       "</style>\n",
       "<table border=\"1\" class=\"dataframe\">\n",
       "  <thead>\n",
       "    <tr style=\"text-align: right;\">\n",
       "      <th></th>\n",
       "      <th>Job Title</th>\n",
       "      <th>Company Name</th>\n",
       "      <th>Location</th>\n",
       "      <th>Experience Req.</th>\n",
       "    </tr>\n",
       "  </thead>\n",
       "  <tbody>\n",
       "    <tr>\n",
       "      <th>0</th>\n",
       "      <td>Data Scientist/ Data Analyst</td>\n",
       "      <td>JK Technosoft</td>\n",
       "      <td>Noida, Hyderabad/Secunderabad, Bangalore/Benga...</td>\n",
       "      <td>5-6 Yrs</td>\n",
       "    </tr>\n",
       "    <tr>\n",
       "      <th>1</th>\n",
       "      <td>Data Scientist / Sr. Data Engineer</td>\n",
       "      <td>Convergence Infotech Ltd</td>\n",
       "      <td>Bangalore/Bengaluru(Sadashiva Nagar)\\n(WFH dur...</td>\n",
       "      <td>4-9 Yrs</td>\n",
       "    </tr>\n",
       "    <tr>\n",
       "      <th>2</th>\n",
       "      <td>Lead Data Scientist</td>\n",
       "      <td>Freshdesk</td>\n",
       "      <td>Bangalore/Bengaluru</td>\n",
       "      <td>5-8 Yrs</td>\n",
       "    </tr>\n",
       "    <tr>\n",
       "      <th>3</th>\n",
       "      <td>Lead Data Scientist - Prescriptive Analytics/P...</td>\n",
       "      <td>Codersbrain</td>\n",
       "      <td>Hyderabad/Secunderabad, Bangalore/Bengaluru</td>\n",
       "      <td>6-11 Yrs</td>\n",
       "    </tr>\n",
       "    <tr>\n",
       "      <th>4</th>\n",
       "      <td>Lead Data Scientist - NLP/OpenCV</td>\n",
       "      <td>Codersbrain</td>\n",
       "      <td>Hyderabad/Secunderabad, Bangalore/Bengaluru</td>\n",
       "      <td>6-11 Yrs</td>\n",
       "    </tr>\n",
       "    <tr>\n",
       "      <th>5</th>\n",
       "      <td>Senior Data Scientist reqd For a top notch AI ...</td>\n",
       "      <td>Infrrd Private Limited</td>\n",
       "      <td>Remote</td>\n",
       "      <td>7-12 Yrs</td>\n",
       "    </tr>\n",
       "    <tr>\n",
       "      <th>6</th>\n",
       "      <td>Assistant Manager/Manager- Data Scientist</td>\n",
       "      <td>Genpact</td>\n",
       "      <td>Gurgaon/Gurugram, Bangalore/Bengaluru</td>\n",
       "      <td>4-9 Yrs</td>\n",
       "    </tr>\n",
       "    <tr>\n",
       "      <th>7</th>\n",
       "      <td>Data Scientist- Stats/Math PhDs</td>\n",
       "      <td>Genpact</td>\n",
       "      <td>Bangalore/Bengaluru</td>\n",
       "      <td>5-10 Yrs</td>\n",
       "    </tr>\n",
       "    <tr>\n",
       "      <th>8</th>\n",
       "      <td>Data Scientist</td>\n",
       "      <td>Optum</td>\n",
       "      <td>Bangalore/Bengaluru</td>\n",
       "      <td>5-10 Yrs</td>\n",
       "    </tr>\n",
       "    <tr>\n",
       "      <th>9</th>\n",
       "      <td>Senior Staff Data Scientist-Computer Vision</td>\n",
       "      <td>FabHotel Aay Kay Model Town</td>\n",
       "      <td>Bangalore/Bengaluru</td>\n",
       "      <td>2-5 Yrs</td>\n",
       "    </tr>\n",
       "    <tr>\n",
       "      <th>10</th>\n",
       "      <td>Senior Staff Data Scientist-Computer Vision</td>\n",
       "      <td>Baker Hughes</td>\n",
       "      <td>Bangalore/Bengaluru</td>\n",
       "      <td>4-8 Yrs</td>\n",
       "    </tr>\n",
       "    <tr>\n",
       "      <th>11</th>\n",
       "      <td>Data Scientist - ML</td>\n",
       "      <td>Blue Yonder</td>\n",
       "      <td>Bangalore/Bengaluru</td>\n",
       "      <td>3-7 Yrs</td>\n",
       "    </tr>\n",
       "    <tr>\n",
       "      <th>12</th>\n",
       "      <td>Data Scientist</td>\n",
       "      <td>Gojek</td>\n",
       "      <td>Bangalore/Bengaluru</td>\n",
       "      <td>3-9 Yrs</td>\n",
       "    </tr>\n",
       "    <tr>\n",
       "      <th>13</th>\n",
       "      <td>Lead Data Scientist</td>\n",
       "      <td>cloudneeti</td>\n",
       "      <td>Bangalore/Bengaluru</td>\n",
       "      <td>4-7 Yrs</td>\n",
       "    </tr>\n",
       "    <tr>\n",
       "      <th>14</th>\n",
       "      <td>Sr Data Scientist</td>\n",
       "      <td>Uber</td>\n",
       "      <td>Bangalore/Bengaluru</td>\n",
       "      <td>6-12 Yrs</td>\n",
       "    </tr>\n",
       "    <tr>\n",
       "      <th>15</th>\n",
       "      <td>Assistant Manager/Manager/Senior Manager - Dat...</td>\n",
       "      <td>Huquo Consulting Pvt. Ltd</td>\n",
       "      <td>Delhi / NCR, Bangalore/Bengaluru</td>\n",
       "      <td>4-9 Yrs</td>\n",
       "    </tr>\n",
       "    <tr>\n",
       "      <th>16</th>\n",
       "      <td>HCL Tech Opening - Lead Data Scientist</td>\n",
       "      <td>HCL</td>\n",
       "      <td>Kolkata, Hyderabad/Secunderabad, Pune, Chennai...</td>\n",
       "      <td>10-20 Yrs</td>\n",
       "    </tr>\n",
       "    <tr>\n",
       "      <th>17</th>\n",
       "      <td>Sr . Data Scientist</td>\n",
       "      <td>Visa</td>\n",
       "      <td>Bangalore/Bengaluru</td>\n",
       "      <td>6-8 Yrs</td>\n",
       "    </tr>\n",
       "    <tr>\n",
       "      <th>18</th>\n",
       "      <td>Sr. Associate - Data Scientist</td>\n",
       "      <td>CHANGE LEADERS CONSULTING</td>\n",
       "      <td>Mumbai, Hyderabad/Secunderabad, Pune, Chennai,...</td>\n",
       "      <td>2-5 Yrs</td>\n",
       "    </tr>\n",
       "    <tr>\n",
       "      <th>19</th>\n",
       "      <td>Need Data scientists and data engineers - WFH-...</td>\n",
       "      <td>Covalense Technologies Private Limited</td>\n",
       "      <td>Hyderabad/Secunderabad, Bangalore/Bengaluru, M...</td>\n",
       "      <td>8-13 Yrs</td>\n",
       "    </tr>\n",
       "  </tbody>\n",
       "</table>\n",
       "</div>"
      ],
      "text/plain": [
       "                                            Job Title  \\\n",
       "0                        Data Scientist/ Data Analyst   \n",
       "1                  Data Scientist / Sr. Data Engineer   \n",
       "2                                 Lead Data Scientist   \n",
       "3   Lead Data Scientist - Prescriptive Analytics/P...   \n",
       "4                    Lead Data Scientist - NLP/OpenCV   \n",
       "5   Senior Data Scientist reqd For a top notch AI ...   \n",
       "6           Assistant Manager/Manager- Data Scientist   \n",
       "7                     Data Scientist- Stats/Math PhDs   \n",
       "8                                      Data Scientist   \n",
       "9         Senior Staff Data Scientist-Computer Vision   \n",
       "10        Senior Staff Data Scientist-Computer Vision   \n",
       "11                                Data Scientist - ML   \n",
       "12                                     Data Scientist   \n",
       "13                                Lead Data Scientist   \n",
       "14                                  Sr Data Scientist   \n",
       "15  Assistant Manager/Manager/Senior Manager - Dat...   \n",
       "16             HCL Tech Opening - Lead Data Scientist   \n",
       "17                                Sr . Data Scientist   \n",
       "18                     Sr. Associate - Data Scientist   \n",
       "19  Need Data scientists and data engineers - WFH-...   \n",
       "\n",
       "                              Company Name  \\\n",
       "0                            JK Technosoft   \n",
       "1                 Convergence Infotech Ltd   \n",
       "2                                Freshdesk   \n",
       "3                              Codersbrain   \n",
       "4                              Codersbrain   \n",
       "5                   Infrrd Private Limited   \n",
       "6                                  Genpact   \n",
       "7                                  Genpact   \n",
       "8                                    Optum   \n",
       "9              FabHotel Aay Kay Model Town   \n",
       "10                            Baker Hughes   \n",
       "11                             Blue Yonder   \n",
       "12                                   Gojek   \n",
       "13                              cloudneeti   \n",
       "14                                    Uber   \n",
       "15               Huquo Consulting Pvt. Ltd   \n",
       "16                                     HCL   \n",
       "17                                    Visa   \n",
       "18               CHANGE LEADERS CONSULTING   \n",
       "19  Covalense Technologies Private Limited   \n",
       "\n",
       "                                             Location Experience Req.  \n",
       "0   Noida, Hyderabad/Secunderabad, Bangalore/Benga...         5-6 Yrs  \n",
       "1   Bangalore/Bengaluru(Sadashiva Nagar)\\n(WFH dur...         4-9 Yrs  \n",
       "2                                 Bangalore/Bengaluru         5-8 Yrs  \n",
       "3         Hyderabad/Secunderabad, Bangalore/Bengaluru        6-11 Yrs  \n",
       "4         Hyderabad/Secunderabad, Bangalore/Bengaluru        6-11 Yrs  \n",
       "5                                              Remote        7-12 Yrs  \n",
       "6               Gurgaon/Gurugram, Bangalore/Bengaluru         4-9 Yrs  \n",
       "7                                 Bangalore/Bengaluru        5-10 Yrs  \n",
       "8                                 Bangalore/Bengaluru        5-10 Yrs  \n",
       "9                                 Bangalore/Bengaluru         2-5 Yrs  \n",
       "10                                Bangalore/Bengaluru         4-8 Yrs  \n",
       "11                                Bangalore/Bengaluru         3-7 Yrs  \n",
       "12                                Bangalore/Bengaluru         3-9 Yrs  \n",
       "13                                Bangalore/Bengaluru         4-7 Yrs  \n",
       "14                                Bangalore/Bengaluru        6-12 Yrs  \n",
       "15                   Delhi / NCR, Bangalore/Bengaluru         4-9 Yrs  \n",
       "16  Kolkata, Hyderabad/Secunderabad, Pune, Chennai...       10-20 Yrs  \n",
       "17                                Bangalore/Bengaluru         6-8 Yrs  \n",
       "18  Mumbai, Hyderabad/Secunderabad, Pune, Chennai,...         2-5 Yrs  \n",
       "19  Hyderabad/Secunderabad, Bangalore/Bengaluru, M...        8-13 Yrs  "
      ]
     },
     "execution_count": 15,
     "metadata": {},
     "output_type": "execute_result"
    }
   ],
   "source": [
    "jobs = dd.DataFrame()\n",
    "jobs[\"Job Title\"] = title\n",
    "jobs[\"Company Name\"] = company_name\n",
    "jobs[\"Location\"] = location\n",
    "jobs[\"Experience Req.\"] = experience\n",
    "jobs"
   ]
  },
  {
   "cell_type": "code",
   "execution_count": null,
   "id": "08101138",
   "metadata": {},
   "outputs": [],
   "source": []
  }
 ],
 "metadata": {
  "kernelspec": {
   "display_name": "Python 3",
   "language": "python",
   "name": "python3"
  },
  "language_info": {
   "codemirror_mode": {
    "name": "ipython",
    "version": 3
   },
   "file_extension": ".py",
   "mimetype": "text/x-python",
   "name": "python",
   "nbconvert_exporter": "python",
   "pygments_lexer": "ipython3",
   "version": "3.8.8"
  }
 },
 "nbformat": 4,
 "nbformat_minor": 5
}
